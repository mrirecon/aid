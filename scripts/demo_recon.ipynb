{
 "cells": [
  {
   "cell_type": "code",
   "execution_count": null,
   "id": "5f1a528d-1268-4f51-88b2-4cade18d6d1a",
   "metadata": {},
   "outputs": [],
   "source": [
    "import numpy as np\n",
    "\n",
    "\n",
    "from guided_diffusion import dist_util\n",
    "from guided_diffusion.script_util import (\n",
    "    causal_model_and_diffusion_defaults,\n",
    "    create_causal_model_and_diffusion,\n",
    "    match_to_dict,\n",
    ")\n",
    "\n",
    "import utils\n",
    "\n",
    "from functools import partial\n",
    "import torch\n",
    "\n",
    "import matplotlib.pyplot as plt\n",
    "from tqdm import tqdm\n",
    "import ddnm\n",
    "import mri_utils"
   ]
  },
  {
   "cell_type": "code",
   "execution_count": null,
   "id": "3c0c21d2-5acf-4c6b-8116-2037c01a3752",
   "metadata": {},
   "outputs": [],
   "source": [
    "def ddim_diffusion(xt, prompt, idx_t, model, b, T, step_size, arg_iters,  cond_func=None):\n",
    "    skip = 1000 / T\n",
    "    n = xt.size(0)\n",
    "    losses = []\n",
    "\n",
    "    times = ddnm.get_schedule_jump(T, 1, 1)\n",
    "    time_pairs = list(zip(times[:-1], times[1:]))        \n",
    "\n",
    "    pbar = tqdm(time_pairs)\n",
    "    pbar_labels = ['loss', 'mean', 'min', 'max']\n",
    "    \n",
    "    for i, j in pbar:\n",
    "        i, j = i*skip, j*skip\n",
    "        if j<0: j=-1 \n",
    "\n",
    "        t       = (torch.ones(n) * i).to(xt.device)\n",
    "        next_t  = (torch.ones(n) * j).to(xt.device)\n",
    "        at      = ddnm.compute_alpha(b, t.long())\n",
    "        at_next = ddnm.compute_alpha(b, next_t.long())\n",
    "        sigma_t = (1 - at_next).sqrt()[0, 0, 0, 0]\n",
    "        a       = at_next.sqrt()[0, 0, 0, 0]\n",
    "        \n",
    "        et = model.forward_sample(torch.concat([prompt,xt],dim=1), t, idx_t=idx_t)[:, :, :2]\n",
    "\n",
    "        xt = (1/at.sqrt()) * (xt - et * (1 - at).sqrt()) # Eq.6\n",
    "\n",
    "        if cond_func is not None:\n",
    "            for _ in range(arg_iters):\n",
    "                meas_grad = cond_func(xt)             \n",
    "                xt = xt - meas_grad * step_size\n",
    "\n",
    "        if cond_func is not None:\n",
    "            metrics = [(meas_grad).norm(), (xt).abs().mean(), (xt).abs().min(), (xt).abs().max()]\n",
    "            ddnm.update_pbar_desc(pbar, metrics, pbar_labels)\n",
    "\n",
    "        xt = at_next.sqrt() * xt + torch.randn_like(xt) * sigma_t # Eq.11\n",
    "\n",
    "    return xt"
   ]
  },
  {
   "cell_type": "code",
   "execution_count": null,
   "id": "81ad02aa-f6e9-466a-96c5-4e0f06f21bf4",
   "metadata": {},
   "outputs": [],
   "source": [
    "config = utils.load_config('configs/fastmri_320_cplx.yaml')\n",
    "init_config = match_to_dict(config, causal_model_and_diffusion_defaults())\n",
    "\n",
    "device = torch.device('cuda:3')\n",
    "\n",
    "model, diffusion = create_causal_model_and_diffusion(**init_config)\n",
    "model.load_state_dict(\n",
    "    dist_util.load_state_dict('/home/gluo/temporal/logs/fastmri_320_cplx/model370000.pt', map_location=\"cpu\")\n",
    ")\n",
    "model = model.to(device)\n",
    "\n",
    "betas = np.linspace(0.0001, 0.02, 1000, dtype=np.float64)\n",
    "betas = torch.from_numpy(betas).float().to(device)"
   ]
  },
  {
   "cell_type": "markdown",
   "id": "dd7e6d19-1e6c-41d9-ae84-32ff0996dc02",
   "metadata": {},
   "source": [
    "## Load data"
   ]
  },
  {
   "cell_type": "code",
   "execution_count": null,
   "id": "421a369d-933e-49b8-8485-3eeaf84761a9",
   "metadata": {},
   "outputs": [],
   "source": [
    "import h5py\n",
    "data = h5py.File('/scratch/gluo/compressed/fastMRI/multicoil_val/file_brain_AXT1POST_200_6002026.h5')\n",
    "import utils\n",
    "%matplotlib inline"
   ]
  },
  {
   "cell_type": "code",
   "execution_count": null,
   "id": "7cea3499-10dd-498f-91cc-f1568174ca34",
   "metadata": {},
   "outputs": [],
   "source": [
    "def K_crop(kspace,shape):\n",
    "    img    = mri_utils.ifft2c(kspace,axes=(0,1))\n",
    "    img = mri_utils.crop(img,shape)\n",
    "    kspace = mri_utils.fft2c(img,axes=(0,1))\n",
    "    return kspace\n",
    "\n",
    "def result_norm(images):\n",
    "    mag_recon = np.abs(images)/np.max(np.abs(images), axis=(0,1))\n",
    "    normalized_recon = mag_recon/np.linalg.norm(mag_recon, axis=(0,1), keepdims=True) \n",
    "    return normalized_recon\n",
    "\n",
    "def pre(imgs):\n",
    "    imgs = imgs[None]\n",
    "    imgs = imgs / np.max(np.abs(imgs), axis=(1,2), keepdims=True)\n",
    "    arr = mri_utils.cplx2float(imgs)[0]\n",
    "    arr = np.transpose(arr, [2, 0, 1]).astype(np.float32) #(2,320,320)    \n",
    "    arr = torch.from_numpy(arr)\n",
    "    return arr"
   ]
  },
  {
   "cell_type": "code",
   "execution_count": null,
   "id": "fd247aec-3e07-4033-8147-68db43fdf168",
   "metadata": {},
   "outputs": [],
   "source": [
    "kspace0 = data['kspace'][0].transpose(1,2,0)\n",
    "kspace1 = data['kspace'][1].transpose(1,2,0)\n",
    "\n",
    "nx,ny,c = kspace1.shape\n",
    "kspace0 = K_crop(kspace0,(ny,ny))\n",
    "kspace1 = K_crop(kspace1,(ny,ny))\n",
    "\n",
    "csm0 = utils.bart(1, 'caldir 30', kspace0[np.newaxis, ...])[0]\n",
    "csm1 = utils.bart(1, 'caldir 30', kspace1[np.newaxis, ...])[0]\n",
    "\n",
    "img0 = np.sum(mri_utils.ifft2c(kspace0,axes=(0,1)) * np.conj(csm0),-1)\n",
    "img1 = np.sum(mri_utils.ifft2c(kspace1,axes=(0,1)) * np.conj(csm1),-1)\n",
    "\n",
    "torch_img0 = pre(img0)\n",
    "torch_img1 = pre(img1)"
   ]
  },
  {
   "cell_type": "markdown",
   "id": "e70b1a64-e797-40bb-a54d-0b181751cd9f",
   "metadata": {},
   "source": [
    "## predict Next slice"
   ]
  },
  {
   "cell_type": "code",
   "execution_count": null,
   "id": "e32f35e3-9b4f-4610-a007-6ad5fea3ea48",
   "metadata": {},
   "outputs": [],
   "source": [
    "# prompt \n",
    "prompt = torch.zeros([1,10,2,320,320]).to(device)\n",
    "prompt[:,0] = torch_img0\n",
    "with torch.no_grad():\n",
    "    x = torch.randn([1,1,2,320,320]).to(device)\n",
    "    x = ddim_diffusion(x, prompt, 0, model, betas, T=100, step_size=2, arg_iters=4, cond_func=None)\n",
    "    predict_next_slice = images = mri_utils.float2cplx(x.cpu()[0,0].permute(1,2,0))"
   ]
  },
  {
   "cell_type": "code",
   "execution_count": null,
   "id": "1d800647-0100-48cc-bb02-222fb0284584",
   "metadata": {},
   "outputs": [],
   "source": [
    "plt.figure(dpi=150)\n",
    "\n",
    "vmax=0.008\n",
    "plt.subplot(1,3,1)\n",
    "plt.imshow(np.abs(result_norm(img0))[::-1],vmax=vmax,cmap='gray')\n",
    "plt.title('Image 0')\n",
    "plt.axis('off')\n",
    "\n",
    "plt.subplot(1,3,2)\n",
    "plt.imshow(np.abs(result_norm(predict_next_slice))[::-1],vmax=vmax,cmap='gray')\n",
    "plt.title('Predicted Image 1')\n",
    "plt.axis('off')\n",
    "\n",
    "plt.subplot(1,3,3)\n",
    "plt.imshow(np.abs(result_norm(img1))[::-1],vmax=vmax,cmap='gray')\n",
    "plt.title('Image 1')\n",
    "plt.axis('off')\n",
    "\n",
    "plt.tight_layout(w_pad=0.1)"
   ]
  },
  {
   "cell_type": "markdown",
   "id": "44ed0e6f-6365-4d26-82c1-894c0988de34",
   "metadata": {},
   "source": [
    "## MRI Reconstruction\n",
    "\n",
    "### 4x acceleration"
   ]
  },
  {
   "cell_type": "code",
   "execution_count": null,
   "id": "6b9b2aca-0fc1-4350-93b4-6706c0c1bff8",
   "metadata": {},
   "outputs": [],
   "source": [
    "csm1 = utils.bart(1, 'caldir 30', kspace1[np.newaxis, ...])[0]\n",
    "\n",
    "rss = np.sum(mri_utils.ifft2c(kspace1,axes=(0,1)) * np.conj(csm1),-1)\n",
    "\n",
    "mask = mri_utils.equal_mask(ny,ny,4)\n",
    "#mask[:, 158:162] = 1\n",
    "\n",
    "und_ksp = kspace1*abs(mask[..., np.newaxis])\n",
    "\n",
    "mask = np.where(und_ksp==0,0,1)[...,0]\n",
    "\n",
    "und_ksp = torch.from_numpy(und_ksp.astype(np.complex64)).permute(2,0,1)[None].to(device)\n",
    "mask    = torch.from_numpy(abs(mask).astype(np.float32))[None][None].to(device)\n",
    "coilsen = torch.from_numpy(csm1.astype(np.complex64)).permute(2,0,1)[None].to(device)\n",
    "\n",
    "zero_filled = torch.sum((mri_utils._ifft(und_ksp) * torch.conj(coilsen)),dim=1)\n",
    "zero_filled = zero_filled / zero_filled.abs().max()\n",
    "\n",
    "plt.subplot(1,2,1)\n",
    "plt.imshow(zero_filled.cpu().abs()[0].numpy()[::-1],cmap='gray')\n",
    "plt.axis('off')\n",
    "plt.subplot(1,2,2)\n",
    "plt.imshow(mask.detach().cpu().squeeze(),cmap='gray')\n",
    "plt.axis('off')\n",
    "torch.mean(mask)"
   ]
  },
  {
   "cell_type": "markdown",
   "id": "f71d6d0a-135f-49c5-85af-8e308b5b2e2b",
   "metadata": {},
   "source": [
    "### w/ prompt"
   ]
  },
  {
   "cell_type": "code",
   "execution_count": null,
   "id": "e207adf0-27a8-4cbb-9c67-34ecd5e5c049",
   "metadata": {},
   "outputs": [],
   "source": [
    "def cond_func(x, measurement, mask, coilsen):\n",
    "\n",
    "    x = x[0]\n",
    "    x = torch.view_as_complex(x.permute(0,2,3,1).contiguous())[:,None]\n",
    "    \n",
    "    x = torch.sum(mri_utils._ifft(mri_utils._fft(x * coilsen) * mask) * torch.conj(coilsen), axis=1)\n",
    "    \n",
    "    grad = x - measurement\n",
    "    grad = torch.view_as_real(grad).permute(0,3,1,2)\n",
    "    return grad[None]\n",
    "\n",
    "grad_params = {'measurement': zero_filled*0.3, 'mask': mask, 'coilsen': coilsen}\n",
    "AHA         = partial(cond_func, **grad_params)\n",
    "\n",
    "prompt = torch.zeros([1,10,2,320,320]).to(device)\n",
    "prompt[:,0] = torch_img0\n",
    "with torch.no_grad():\n",
    "    x = torch.randn([1,1,2,320,320]).to(device)\n",
    "    x = ddim_diffusion(x, prompt, 0, model, betas, T=1000, step_size=1, arg_iters=4, cond_func=AHA)\n",
    "    prompt_recon_images = mri_utils.float2cplx(x.cpu()[0,0].permute(1,2,0))"
   ]
  },
  {
   "cell_type": "code",
   "execution_count": null,
   "id": "90d83336",
   "metadata": {},
   "outputs": [],
   "source": [
    "plt.figure(dpi=150)\n",
    "print(result_norm(predict_next_slice).max())\n",
    "\n",
    "\n",
    "plt.subplot(1,3,1)\n",
    "plt.imshow(np.abs(result_norm(predict_next_slice))[::-1],vmax=vmax,cmap='gray')\n",
    "plt.axis('off')\n",
    "plt.title('predicted')\n",
    "\n",
    "plt.subplot(1,3,2)\n",
    "plt.imshow(np.abs(result_norm(prompt_recon_images))[::-1],vmax=vmax,cmap='gray')\n",
    "plt.axis('off')\n",
    "plt.title('Recon')\n",
    "\n",
    "plt.subplot(1,3,3)\n",
    "plt.imshow(np.abs(result_norm(img1))[::-1],vmax=vmax,cmap='gray')\n",
    "plt.axis('off')\n",
    "plt.title('GT')\n",
    "\n",
    "plt.tight_layout(w_pad=0.1)"
   ]
  },
  {
   "cell_type": "markdown",
   "id": "1a66bcc9",
   "metadata": {},
   "source": [
    "### 8x acceleration"
   ]
  },
  {
   "cell_type": "code",
   "execution_count": null,
   "id": "06ecad02",
   "metadata": {},
   "outputs": [],
   "source": [
    "mask = mri_utils.equal_mask(ny,ny,8)\n",
    "#mask[:, 158:162] = 1\n",
    "\n",
    "und_ksp = kspace1*abs(mask[..., np.newaxis])\n",
    "\n",
    "mask = np.where(und_ksp==0,0,1)[...,0]\n",
    "\n",
    "und_ksp = torch.from_numpy(und_ksp.astype(np.complex64)).permute(2,0,1)[None].to(device)\n",
    "mask    = torch.from_numpy(abs(mask).astype(np.float32))[None][None].to(device)\n",
    "coilsen = torch.from_numpy(csm1.astype(np.complex64)).permute(2,0,1)[None].to(device)\n",
    "\n",
    "zero_filled = torch.sum((mri_utils._ifft(und_ksp) * torch.conj(coilsen)),dim=1)\n",
    "zero_filled = zero_filled / zero_filled.abs().max()\n",
    "\n",
    "plt.subplot(1,2,1)\n",
    "plt.imshow(zero_filled.cpu().abs()[0].numpy()[::-1],cmap='gray')\n",
    "plt.axis('off')\n",
    "plt.subplot(1,2,2)\n",
    "plt.imshow(mask.detach().cpu().squeeze(),cmap='gray')\n",
    "plt.axis('off')\n",
    "torch.mean(mask)"
   ]
  },
  {
   "cell_type": "code",
   "execution_count": null,
   "id": "b80ed3b2",
   "metadata": {},
   "outputs": [],
   "source": [
    "grad_params = {'measurement': zero_filled*0.3, 'mask': mask, 'coilsen': coilsen}\n",
    "AHA         = partial(cond_func, **grad_params)\n",
    "\n",
    "prompt = torch.zeros([1,10,2,320,320]).to(device)\n",
    "prompt[:,0] = torch_img0\n",
    "with torch.no_grad():\n",
    "    x = torch.randn([1,1,2,320,320]).to(device)\n",
    "    x = ddim_diffusion(x, prompt, 0, model, betas, T=1000, step_size=1, arg_iters=4, cond_func=AHA)\n",
    "    prompt_recon_images = mri_utils.float2cplx(x.cpu()[0,0].permute(1,2,0))"
   ]
  },
  {
   "cell_type": "code",
   "execution_count": null,
   "id": "b5fbc4ea",
   "metadata": {},
   "outputs": [],
   "source": [
    "plt.figure(dpi=150)\n",
    "print(result_norm(predict_next_slice).max())\n",
    "\n",
    "\n",
    "plt.subplot(1,3,1)\n",
    "plt.imshow(np.abs(result_norm(predict_next_slice))[::-1],vmax=vmax,cmap='gray')\n",
    "plt.axis('off')\n",
    "plt.title('predicted')\n",
    "\n",
    "plt.subplot(1,3,2)\n",
    "plt.imshow(np.abs(result_norm(prompt_recon_images))[::-1],vmax=vmax,cmap='gray')\n",
    "plt.axis('off')\n",
    "plt.title('Recon')\n",
    "\n",
    "plt.subplot(1,3,3)\n",
    "plt.imshow(np.abs(result_norm(img1))[::-1],vmax=vmax,cmap='gray')\n",
    "plt.axis('off')\n",
    "plt.title('Reference')\n",
    "\n",
    "plt.tight_layout(w_pad=0.1)"
   ]
  },
  {
   "cell_type": "markdown",
   "id": "09324af5",
   "metadata": {},
   "source": [
    "### 12 acceleration"
   ]
  },
  {
   "cell_type": "code",
   "execution_count": null,
   "id": "05792ce6",
   "metadata": {},
   "outputs": [],
   "source": [
    "mask = mri_utils.equal_mask(ny,ny,12)\n",
    "#mask[:, 158:162] = 1\n",
    "\n",
    "und_ksp = kspace1*abs(mask[..., np.newaxis])\n",
    "\n",
    "mask = np.where(und_ksp==0,0,1)[...,0]\n",
    "\n",
    "und_ksp = torch.from_numpy(und_ksp.astype(np.complex64)).permute(2,0,1)[None].to(device)\n",
    "mask    = torch.from_numpy(abs(mask).astype(np.float32))[None][None].to(device)\n",
    "coilsen = torch.from_numpy(csm1.astype(np.complex64)).permute(2,0,1)[None].to(device)\n",
    "\n",
    "zero_filled = torch.sum((mri_utils._ifft(und_ksp) * torch.conj(coilsen)),dim=1)\n",
    "zero_filled = zero_filled / zero_filled.abs().max()\n",
    "\n",
    "plt.subplot(1,2,1)\n",
    "plt.imshow(zero_filled.cpu().abs()[0].numpy()[::-1],cmap='gray')\n",
    "plt.axis('off')\n",
    "\n",
    "plt.subplot(1,2,2)\n",
    "plt.imshow(mask.detach().cpu().squeeze(),cmap='gray')\n",
    "plt.axis('off')\n",
    "torch.mean(mask)"
   ]
  },
  {
   "cell_type": "code",
   "execution_count": null,
   "id": "e937d934",
   "metadata": {},
   "outputs": [],
   "source": [
    "grad_params = {'measurement': zero_filled*0.2, 'mask': mask, 'coilsen': coilsen}\n",
    "AHA         = partial(cond_func, **grad_params)\n",
    "\n",
    "prompt = torch.zeros([1,10,2,320,320]).to(device)\n",
    "prompt[:,0] = torch_img0\n",
    "with torch.no_grad():\n",
    "    x = torch.randn([1,1,2,320,320]).to(device)\n",
    "    x = ddim_diffusion(x, prompt, 0, model, betas, T=1000, step_size=1, arg_iters=4, cond_func=AHA)\n",
    "    prompt_recon_images = mri_utils.float2cplx(x.cpu()[0,0].permute(1,2,0))"
   ]
  },
  {
   "cell_type": "code",
   "execution_count": null,
   "id": "c063e40e-2cc6-42d8-b984-9468f474dbae",
   "metadata": {},
   "outputs": [],
   "source": [
    "plt.figure(dpi=150)\n",
    "print(result_norm(predict_next_slice).max())\n",
    "\n",
    "\n",
    "plt.subplot(1,3,1)\n",
    "plt.imshow(np.abs(result_norm(predict_next_slice))[::-1],vmax=vmax,cmap='gray')\n",
    "plt.axis('off')\n",
    "plt.title('predicted')\n",
    "\n",
    "plt.subplot(1,3,2)\n",
    "plt.imshow(np.abs(result_norm(prompt_recon_images))[::-1],vmax=vmax,cmap='gray')\n",
    "plt.axis('off')\n",
    "plt.title('Recon')\n",
    "\n",
    "plt.subplot(1,3,3)\n",
    "plt.imshow(np.abs(result_norm(img1))[::-1],vmax=vmax,cmap='gray')\n",
    "plt.axis('off')\n",
    "plt.title('Reference')\n",
    "\n",
    "plt.tight_layout(w_pad=0.1)"
   ]
  },
  {
   "cell_type": "markdown",
   "id": "91fcfe80-a1db-443a-b90a-ba4a15ca5566",
   "metadata": {},
   "source": [
    "### w/o prompt"
   ]
  },
  {
   "cell_type": "code",
   "execution_count": null,
   "id": "2de4c5be-2b32-4d73-b5bf-337245026399",
   "metadata": {},
   "outputs": [],
   "source": [
    "prompt = torch.zeros([1,10,2,320,320]).to(device)\n",
    "with torch.no_grad():\n",
    "    x = torch.randn([1,1,2,320,320]).to(device)\n",
    "    x = ddim_diffusion(x, prompt, 0, model, betas, T=1000, step_size=2, arg_iters=4, cond_func=AHA)\n",
    "    recon_images = mri_utils.float2cplx(x.cpu()[0,0].permute(1,2,0))"
   ]
  },
  {
   "cell_type": "code",
   "execution_count": null,
   "id": "cc4f3694-badf-489f-aa35-206bae8b8bcd",
   "metadata": {},
   "outputs": [],
   "source": [
    "plt.figure(dpi=150)\n",
    "print(result_norm(predict_next_slice).max())\n",
    "vmax=0.008\n",
    "\n",
    "plt.subplot(1,3,1)\n",
    "plt.imshow(np.abs(result_norm(prompt_recon_images))[::-1],vmax=vmax,cmap='gray')\n",
    "plt.axis('off')\n",
    "plt.title('Recon with prompt')\n",
    "\n",
    "plt.subplot(1,3,2)\n",
    "plt.imshow(np.abs(result_norm(recon_images))[::-1],vmax=vmax,cmap='gray')\n",
    "plt.axis('off')\n",
    "plt.title('Recon without prompt')\n",
    "\n",
    "plt.subplot(1,3,3)\n",
    "plt.imshow(np.abs(result_norm(img1))[::-1],vmax=vmax,cmap='gray')\n",
    "plt.axis('off')\n",
    "plt.title('Reference')\n",
    "\n",
    "plt.tight_layout(w_pad=0.1)"
   ]
  }
 ],
 "metadata": {
  "kernelspec": {
   "display_name": "Python 3 (ipykernel)",
   "language": "python",
   "name": "python3"
  },
  "language_info": {
   "codemirror_mode": {
    "name": "ipython",
    "version": 3
   },
   "file_extension": ".py",
   "mimetype": "text/x-python",
   "name": "python",
   "nbconvert_exporter": "python",
   "pygments_lexer": "ipython3",
   "version": "3.10.12"
  }
 },
 "nbformat": 4,
 "nbformat_minor": 5
}
